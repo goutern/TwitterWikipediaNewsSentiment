{
 "cells": [
  {
   "cell_type": "code",
   "execution_count": 1,
   "metadata": {},
   "outputs": [
    {
     "name": "stdout",
     "output_type": "stream",
     "text": [
      "Defaulting to user installation because normal site-packages is not writeable\n",
      "Requirement already satisfied: tweepy in /usr4/cs640/goutern/.local/lib/python3.7/site-packages (3.10.0)\n",
      "Requirement already satisfied: requests[socks]>=2.11.1 in /share/pkg.7/python3/3.7.9/install/lib/python3.7/site-packages (from tweepy) (2.24.0)\n",
      "Requirement already satisfied: requests-oauthlib>=0.7.0 in /usr4/cs640/goutern/.local/lib/python3.7/site-packages (from tweepy) (1.3.0)\n",
      "Requirement already satisfied: six>=1.10.0 in /share/pkg.7/python3/3.7.9/install/lib/python3.7/site-packages (from tweepy) (1.15.0)\n",
      "Requirement already satisfied: chardet<4,>=3.0.2 in /share/pkg.7/python3/3.7.9/install/lib/python3.7/site-packages (from requests[socks]>=2.11.1->tweepy) (3.0.4)\n",
      "Requirement already satisfied: urllib3!=1.25.0,!=1.25.1,<1.26,>=1.21.1 in /share/pkg.7/python3/3.7.9/install/lib/python3.7/site-packages (from requests[socks]>=2.11.1->tweepy) (1.25.11)\n",
      "Requirement already satisfied: certifi>=2017.4.17 in /share/pkg.7/python3/3.7.9/install/lib/python3.7/site-packages (from requests[socks]>=2.11.1->tweepy) (2020.6.20)\n",
      "Requirement already satisfied: idna<3,>=2.5 in /share/pkg.7/python3/3.7.9/install/lib/python3.7/site-packages (from requests[socks]>=2.11.1->tweepy) (2.10)\n",
      "Requirement already satisfied: PySocks!=1.5.7,>=1.5.6; extra == \"socks\" in /usr4/cs640/goutern/.local/lib/python3.7/site-packages (from requests[socks]>=2.11.1->tweepy) (1.7.1)\n",
      "Requirement already satisfied: oauthlib>=3.0.0 in /usr4/cs640/goutern/.local/lib/python3.7/site-packages (from requests-oauthlib>=0.7.0->tweepy) (3.1.0)\n",
      "\u001b[33mWARNING: You are using pip version 20.2.4; however, version 21.0.1 is available.\n",
      "You should consider upgrading via the '/share/pkg.7/python3/3.7.9/install/bin/python3.7 -m pip install --upgrade pip' command.\u001b[0m\n"
     ]
    }
   ],
   "source": [
    "!pip install tweepy"
   ]
  },
  {
   "cell_type": "code",
   "execution_count": 2,
   "metadata": {},
   "outputs": [],
   "source": [
    "consumer_key = \"ptdJNRcJY8S2aTUGH8jFqhuBV\"\n",
    "consumer_secret = \"GLRjcKyLmEWuF4zdoS297qCJF54WRsflYC1Jutdlh4EiXngUTk\"\n",
    "access_token = \"4777023255-pd3o0wDZ1pT1vT03jBFcdx1rGLZn5nqT1DBSMJI\"\n",
    "access_token_secret = \"AyjUIyyXhwkDji0j0P4QsUIWxGx8wdPN72ieMkGTFXxOL\""
   ]
  },
  {
   "cell_type": "code",
   "execution_count": 3,
   "metadata": {},
   "outputs": [
    {
     "name": "stdout",
     "output_type": "stream",
     "text": [
      "{'rate_limit_context': {'access_token': '4777023255-pd3o0wDZ1pT1vT03jBFcdx1rGLZn5nqT1DBSMJI'}, 'resources': {'lists': {'/lists/list': {'limit': 15, 'remaining': 15, 'reset': 1613967829}, '/lists/memberships': {'limit': 75, 'remaining': 75, 'reset': 1613967829}, '/lists/subscribers/show': {'limit': 15, 'remaining': 15, 'reset': 1613967829}, '/lists/members': {'limit': 900, 'remaining': 900, 'reset': 1613967829}, '/lists/subscriptions': {'limit': 15, 'remaining': 15, 'reset': 1613967829}, '/lists/show': {'limit': 75, 'remaining': 75, 'reset': 1613967829}, '/lists/ownerships': {'limit': 15, 'remaining': 15, 'reset': 1613967829}, '/lists/subscribers': {'limit': 180, 'remaining': 180, 'reset': 1613967829}, '/lists/members/show': {'limit': 15, 'remaining': 15, 'reset': 1613967829}, '/lists/statuses': {'limit': 900, 'remaining': 900, 'reset': 1613967829}}, 'application': {'/application/rate_limit_status': {'limit': 180, 'remaining': 177, 'reset': 1613967048}}, 'mutes': {'/mutes/users/list': {'limit': 15, 'remaining': 15, 'reset': 1613967829}, '/mutes/users/ids': {'limit': 15, 'remaining': 15, 'reset': 1613967829}}, 'admin_users': {'/admin_users': {'limit': 2000, 'remaining': 2000, 'reset': 1613967829}}, 'live_video_stream': {'/live_video_stream/status/:id': {'limit': 1000, 'remaining': 1000, 'reset': 1613967829}}, 'friendships': {'/friendships/outgoing': {'limit': 15, 'remaining': 15, 'reset': 1613967829}, '/friendships/list': {'limit': 200, 'remaining': 200, 'reset': 1613967829}, '/friendships/no_retweets/ids': {'limit': 15, 'remaining': 15, 'reset': 1613967829}, '/friendships/lookup': {'limit': 15, 'remaining': 15, 'reset': 1613967829}, '/friendships/incoming': {'limit': 15, 'remaining': 15, 'reset': 1613967829}, '/friendships/show': {'limit': 180, 'remaining': 180, 'reset': 1613967829}}, 'guide': {'/guide': {'limit': 180, 'remaining': 180, 'reset': 1613967829}, '/guide/get_explore_locations': {'limit': 100, 'remaining': 100, 'reset': 1613967829}, '/guide/explore_locations_with_autocomplete': {'limit': 200, 'remaining': 200, 'reset': 1613967829}}, 'auth': {'/auth/csrf_token': {'limit': 15, 'remaining': 15, 'reset': 1613967829}}, 'blocks': {'/blocks/list': {'limit': 15, 'remaining': 15, 'reset': 1613967829}, '/blocks/ids': {'limit': 15, 'remaining': 15, 'reset': 1613967829}}, 'geo': {'/geo/similar_places': {'limit': 15, 'remaining': 15, 'reset': 1613967829}, '/geo/place_page': {'limit': 75, 'remaining': 75, 'reset': 1613967829}, '/geo/id/:place_id': {'limit': 75, 'remaining': 75, 'reset': 1613967829}, '/geo/reverse_geocode': {'limit': 15, 'remaining': 15, 'reset': 1613967829}, '/geo/search': {'limit': 15, 'remaining': 15, 'reset': 1613967829}}, 'users': {'/users/': {'limit': 900, 'remaining': 900, 'reset': 1613967829}, '/users/:id': {'limit': 900, 'remaining': 900, 'reset': 1613967829}, '/users/report_spam': {'limit': 15, 'remaining': 15, 'reset': 1613967829}, '/users/contributors/pending': {'limit': 2000, 'remaining': 2000, 'reset': 1613967829}, '/users/show/:id': {'limit': 900, 'remaining': 900, 'reset': 1613967829}, '/users/:source_user_id/following&POST': {'limit': 50, 'remaining': 50, 'reset': 1613967829}, '/users/:id/tweets': {'limit': 900, 'remaining': 900, 'reset': 1613967829}, '/users/search': {'limit': 900, 'remaining': 900, 'reset': 1613967829}, '/users/:id/likes&POST': {'limit': 50, 'remaining': 50, 'reset': 1613967829}, '/users/suggestions/:slug': {'limit': 15, 'remaining': 15, 'reset': 1613967829}, '/users/contributees/pending': {'limit': 200, 'remaining': 200, 'reset': 1613967829}, '/users/by/username/:source_username/following/:target_user_name&DELETE': {'limit': 50, 'remaining': 50, 'reset': 1613967829}, '/users/profile_banner': {'limit': 180, 'remaining': 180, 'reset': 1613967829}, '/users/by/username/:handle/tweets': {'limit': 900, 'remaining': 900, 'reset': 1613967829}, '/users/derived_info': {'limit': 15, 'remaining': 15, 'reset': 1613967829}, '/users/by/username/:source_username/following&POST': {'limit': 50, 'remaining': 50, 'reset': 1613967829}, '/users/:id/followers': {'limit': 15, 'remaining': 15, 'reset': 1613967829}, '/users/suggestions/:slug/members': {'limit': 15, 'remaining': 15, 'reset': 1613967829}, '/users/:id/following': {'limit': 15, 'remaining': 15, 'reset': 1613967829}, '/users/:id/mentions': {'limit': 180, 'remaining': 180, 'reset': 1613967829}, '/users/by/username/:username': {'limit': 900, 'remaining': 900, 'reset': 1613967829}, '/users/:source_user_id/following/:target_user_id&DELETE': {'limit': 50, 'remaining': 50, 'reset': 1613967829}, '/users/lookup': {'limit': 900, 'remaining': 900, 'reset': 1613967829}, '/users/by/username/:username/followers': {'limit': 15, 'remaining': 15, 'reset': 1613967829}, '/users/suggestions': {'limit': 15, 'remaining': 15, 'reset': 1613967829}, '/users/:id/likes/:tweet_id&DELETE': {'limit': 50, 'remaining': 50, 'reset': 1613967829}, '/users/by/username/:username/following': {'limit': 15, 'remaining': 15, 'reset': 1613967829}, '/users/by/username/:handle/mentions': {'limit': 180, 'remaining': 180, 'reset': 1613967829}, '/users/by': {'limit': 900, 'remaining': 900, 'reset': 1613967829}, '/users/:id/liked_tweets': {'limit': 75, 'remaining': 75, 'reset': 1613967829}}, 'teams': {'/teams/authorize': {'limit': 15, 'remaining': 15, 'reset': 1613967829}}, 'followers': {'/followers/ids': {'limit': 15, 'remaining': 15, 'reset': 1613967829}, '/followers/list': {'limit': 15, 'remaining': 15, 'reset': 1613967829}}, 'collections': {'/collections/list': {'limit': 1000, 'remaining': 1000, 'reset': 1613967829}, '/collections/entries': {'limit': 1000, 'remaining': 1000, 'reset': 1613967829}, '/collections/show': {'limit': 1000, 'remaining': 1000, 'reset': 1613967829}}, 'statuses': {'/statuses/retweeters/ids': {'limit': 75, 'remaining': 75, 'reset': 1613967829}, '/statuses/retweets_of_me': {'limit': 75, 'remaining': 75, 'reset': 1613967829}, '/statuses/home_timeline': {'limit': 15, 'remaining': 15, 'reset': 1613967829}, '/statuses/show/:id': {'limit': 900, 'remaining': 900, 'reset': 1613967829}, '/statuses/user_timeline': {'limit': 900, 'remaining': 900, 'reset': 1613967829}, '/statuses/friends': {'limit': 15, 'remaining': 15, 'reset': 1613967829}, '/statuses/retweets/:id': {'limit': 75, 'remaining': 75, 'reset': 1613967829}, '/statuses/mentions_timeline': {'limit': 75, 'remaining': 75, 'reset': 1613967829}, '/statuses/oembed': {'limit': 180, 'remaining': 180, 'reset': 1613967829}, '/statuses/lookup': {'limit': 900, 'remaining': 900, 'reset': 1613967829}}, 'custom_profiles': {'/custom_profiles/list': {'limit': 180, 'remaining': 180, 'reset': 1613967829}, '/custom_profiles/show': {'limit': 180, 'remaining': 180, 'reset': 1613967829}}, 'webhooks': {'/webhooks/subscriptions/direct_messages': {'limit': 15, 'remaining': 15, 'reset': 1613967829}, '/webhooks': {'limit': 15, 'remaining': 15, 'reset': 1613967829}}, 'contacts': {'/contacts/uploaded_by': {'limit': 300, 'remaining': 300, 'reset': 1613967829}, '/contacts/users': {'limit': 300, 'remaining': 300, 'reset': 1613967829}, '/contacts/addressbook': {'limit': 300, 'remaining': 300, 'reset': 1613967829}, '/contacts/users_and_uploaded_by': {'limit': 300, 'remaining': 300, 'reset': 1613967829}, '/contacts/delete/status': {'limit': 300, 'remaining': 300, 'reset': 1613967829}}, 'labs': {'/labs/2/platform_manipulation/reports': {'limit': 5, 'remaining': 5, 'reset': 1613967829}, '/labs/:version/tweets/:id/hidden&PUT': {'limit': 10, 'remaining': 10, 'reset': 1613967829}, '/labs/:version/tweets/stream/filter/': {'limit': 50, 'remaining': 50, 'reset': 1613967829}, '/labs/:version/users/:id/tweets': {'limit': 225, 'remaining': 225, 'reset': 1613967829}, '/labs/2/reports': {'limit': 5, 'remaining': 5, 'reset': 1613967829}, '/labs/:version/tweets/stream/filter/rules&POST': {'limit': 450, 'remaining': 450, 'reset': 1613967829}, '/labs/:version/tweets/stream/sample': {'limit': 50, 'remaining': 50, 'reset': 1613967829}, '/labs/:version/users/by/username/:handle/tweets': {'limit': 225, 'remaining': 225, 'reset': 1613967829}, '/labs/:version/tweets/metrics/private': {'limit': 15, 'remaining': 15, 'reset': 1613967829}, '/labs/:version/tweets/stream/filter/rules/:instance_name': {'limit': 450, 'remaining': 450, 'reset': 1613967829}, '/labs/:version/tweets/*': {'limit': 900, 'remaining': 900, 'reset': 1613967829}, '/labs/:version/users/*': {'limit': 900, 'remaining': 900, 'reset': 1613967829}, '/labs/:version/tweets/stream/filter/:instance_name': {'limit': 50, 'remaining': 50, 'reset': 1613967829}, '/labs/:version/tweets/stream/filter/rules/': {'limit': 450, 'remaining': 450, 'reset': 1613967829}, '/labs/:version/tweets/stream/compliance': {'limit': 500, 'remaining': 500, 'reset': 1613967829}, '/labs/:version/tweets/search': {'limit': 225, 'remaining': 225, 'reset': 1613967829}}, 'i': {'/i/config': {'limit': 15, 'remaining': 15, 'reset': 1613967829}, '/i/tfb/v1/smb/web/:account_id/payment/save': {'limit': 15, 'remaining': 15, 'reset': 1613967829}}, 'tweet_prompts': {'/tweet_prompts/report_interaction': {'limit': 180, 'remaining': 180, 'reset': 1613967829}, '/tweet_prompts/show': {'limit': 180, 'remaining': 180, 'reset': 1613967829}}, 'moments': {'/moments/statuses/update': {'limit': 5, 'remaining': 5, 'reset': 1613967829}, '/moments/create': {'limit': 15, 'remaining': 15, 'reset': 1613967829}, '/moments/permissions': {'limit': 300, 'remaining': 300, 'reset': 1613967829}}, 'limiter_scalding_report_creation': {'/limiter_scalding_report_creation': {'limit': 4500, 'remaining': 4500, 'reset': 1613967829}}, 'fleets': {'/fleets/:version/mutes/create': {'limit': 100, 'remaining': 100, 'reset': 1613967829}, '/fleets/:version/viewers': {'limit': 100, 'remaining': 100, 'reset': 1613967829}, '/fleets/:version/delete': {'limit': 50, 'remaining': 50, 'reset': 1613967829}, '/fleets/:version/create': {'limit': 50, 'remaining': 50, 'reset': 1613967829}, '/fleets/:version/user_fleets': {'limit': 180, 'remaining': 180, 'reset': 1613967829}, '/fleets/:version/fleetline': {'limit': 100, 'remaining': 100, 'reset': 1613967829}, '/fleets/:version/track_events': {'limit': 100, 'remaining': 100, 'reset': 1613967829}, '/fleets/:version/update': {'limit': 50, 'remaining': 50, 'reset': 1613967829}, '/fleets/:version/fleet_threads': {'limit': 1000, 'remaining': 1000, 'reset': 1613967829}, '/fleets/:version/mutes/list': {'limit': 100, 'remaining': 100, 'reset': 1613967829}, '/fleets/:version/mutes/destroy': {'limit': 100, 'remaining': 100, 'reset': 1613967829}, '/fleets/:version/home_timeline': {'limit': 100, 'remaining': 100, 'reset': 1613967829}, '/fleets/:version/mark_read': {'limit': 1000, 'remaining': 1000, 'reset': 1613967829}}, 'help': {'/help/tos': {'limit': 15, 'remaining': 15, 'reset': 1613967829}, '/help/configuration': {'limit': 15, 'remaining': 15, 'reset': 1613967829}, '/help/settings': {'limit': 15, 'remaining': 15, 'reset': 1613967829}, '/help/privacy': {'limit': 15, 'remaining': 15, 'reset': 1613967829}, '/help/languages': {'limit': 15, 'remaining': 15, 'reset': 1613967829}}, 'feedback': {'/feedback/show/:id': {'limit': 180, 'remaining': 180, 'reset': 1613967829}, '/feedback/events': {'limit': 1000, 'remaining': 1000, 'reset': 1613967829}}, 'business_experience': {'/business_experience/dashboard_settings/destroy': {'limit': 450, 'remaining': 450, 'reset': 1613967829}, '/business_experience/dashboard_features': {'limit': 450, 'remaining': 450, 'reset': 1613967829}, '/business_experience/keywords': {'limit': 450, 'remaining': 450, 'reset': 1613967829}, '/business_experience/dashboard_settings/update': {'limit': 450, 'remaining': 450, 'reset': 1613967829}, '/business_experience/dashboard_settings/show': {'limit': 450, 'remaining': 450, 'reset': 1613967829}}, 'graphql&POST': {'/graphql&POST': {'limit': 15, 'remaining': 15, 'reset': 1613967829}}, 'friends': {'/friends/following/ids': {'limit': 15, 'remaining': 15, 'reset': 1613967829}, '/friends/following/list': {'limit': 15, 'remaining': 15, 'reset': 1613967829}, '/friends/list': {'limit': 15, 'remaining': 15, 'reset': 1613967829}, '/friends/ids': {'limit': 15, 'remaining': 15, 'reset': 1613967829}}, 'sandbox': {'/sandbox/account_activity/webhooks/:id/subscriptions': {'limit': 500, 'remaining': 500, 'reset': 1613967829}}, 'drafts': {'/drafts/statuses/update': {'limit': 450, 'remaining': 450, 'reset': 1613967829}, '/drafts/statuses/destroy': {'limit': 450, 'remaining': 450, 'reset': 1613967829}, '/drafts/statuses/ids': {'limit': 450, 'remaining': 450, 'reset': 1613967829}, '/drafts/statuses/list': {'limit': 450, 'remaining': 450, 'reset': 1613967829}, '/drafts/statuses/show': {'limit': 450, 'remaining': 450, 'reset': 1613967829}, '/drafts/statuses/create': {'limit': 450, 'remaining': 450, 'reset': 1613967829}}, 'direct_messages': {'/direct_messages/sent': {'limit': 300, 'remaining': 300, 'reset': 1613967829}, '/direct_messages/broadcasts/list': {'limit': 60, 'remaining': 60, 'reset': 1613967829}, '/direct_messages/subscribers/lists/members/show': {'limit': 1000, 'remaining': 1000, 'reset': 1613967829}, '/direct_messages/mark_read': {'limit': 1000, 'remaining': 1000, 'reset': 1613967829}, '/direct_messages/subscribers/ids': {'limit': 180, 'remaining': 180, 'reset': 1613967829}, '/direct_messages/sent_and_received': {'limit': 300, 'remaining': 300, 'reset': 1613967829}, '/direct_messages/broadcasts/statuses/list': {'limit': 60, 'remaining': 60, 'reset': 1613967829}, '/direct_messages': {'limit': 300, 'remaining': 300, 'reset': 1613967829}, '/direct_messages/subscribers/lists/members/ids': {'limit': 180, 'remaining': 180, 'reset': 1613967829}, '/direct_messages/subscribers/show': {'limit': 180, 'remaining': 180, 'reset': 1613967829}, '/direct_messages/broadcasts/show': {'limit': 60, 'remaining': 60, 'reset': 1613967829}, '/direct_messages/broadcasts/statuses/show': {'limit': 60, 'remaining': 60, 'reset': 1613967829}, '/direct_messages/subscribers/lists/list': {'limit': 180, 'remaining': 180, 'reset': 1613967829}, '/direct_messages/show': {'limit': 300, 'remaining': 300, 'reset': 1613967829}, '/direct_messages/subscribers/lists/show': {'limit': 180, 'remaining': 180, 'reset': 1613967829}, '/direct_messages/events/list': {'limit': 15, 'remaining': 15, 'reset': 1613967829}, '/direct_messages/events/show': {'limit': 15, 'remaining': 15, 'reset': 1613967829}}, 'media': {'/media/upload': {'limit': 500, 'remaining': 500, 'reset': 1613967829}}, 'traffic': {'/traffic/map': {'limit': 15, 'remaining': 15, 'reset': 1613967829}}, 'strato': {'/strato/column/None/:id/cms/*': {'limit': 150, 'remaining': 150, 'reset': 1613967829}}, 'account_activity': {'/account_activity/all/webhooks': {'limit': 15, 'remaining': 15, 'reset': 1613967829}, '/account_activity/all/:instance_name/subscriptions': {'limit': 500, 'remaining': 500, 'reset': 1613967829}, '/account_activity/direct_messages/webhooks': {'limit': 15, 'remaining': 15, 'reset': 1613967829}, '/account_activity/webhooks/:id/subscriptions/direct_messages/list': {'limit': 15, 'remaining': 15, 'reset': 1613967829}, '/account_activity/webhooks/:id/subscriptions/all': {'limit': 500, 'remaining': 500, 'reset': 1613967829}, '/account_activity/direct_messages/:instance_name/webhooks': {'limit': 15, 'remaining': 15, 'reset': 1613967829}, '/account_activity/webhooks/:id/subscriptions/all/list': {'limit': 15, 'remaining': 15, 'reset': 1613967829}, '/account_activity/webhooks/:id/subscriptions/direct_messages': {'limit': 500, 'remaining': 500, 'reset': 1613967829}, '/account_activity/webhooks': {'limit': 15, 'remaining': 15, 'reset': 1613967829}, '/account_activity/direct_messages/:instance_name/subscriptions': {'limit': 15, 'remaining': 15, 'reset': 1613967829}, '/account_activity/webhooks/:id/subscriptions': {'limit': 500, 'remaining': 500, 'reset': 1613967829}, '/account_activity/all/:instance_name/webhooks': {'limit': 15, 'remaining': 15, 'reset': 1613967829}}, 'account': {'/account/login_verification_enrollment': {'limit': 15, 'remaining': 15, 'reset': 1613967829}, '/account/update_profile': {'limit': 15, 'remaining': 15, 'reset': 1613967829}, '/account/authenticate_web_view': {'limit': 50, 'remaining': 50, 'reset': 1613967829}, '/account/verify_credentials': {'limit': 75, 'remaining': 75, 'reset': 1613967829}, '/account/settings': {'limit': 15, 'remaining': 15, 'reset': 1613967829}, '/account/change_password': {'limit': 15, 'remaining': 15, 'reset': 1613967829}}, 'safety': {'/safety/detection_feedback': {'limit': 450000, 'remaining': 450000, 'reset': 1613967829}}, 'favorites': {'/favorites/list': {'limit': 75, 'remaining': 75, 'reset': 1613967829}}, 'device': {'/device/token': {'limit': 15, 'remaining': 15, 'reset': 1613967829}}, 'tweets': {'/tweets/search/all': {'limit': 900, 'remaining': 900, 'reset': 1613967829}, '/tweets/search/stream/rules': {'limit': 450, 'remaining': 450, 'reset': 1613967829}, '/tweets/search/recent': {'limit': 180, 'remaining': 180, 'reset': 1613967829}, '/tweets/sample/stream': {'limit': 50, 'remaining': 50, 'reset': 1613967829}, '/tweets/': {'limit': 900, 'remaining': 900, 'reset': 1613967829}, '/tweets/search/stream': {'limit': 50, 'remaining': 50, 'reset': 1613967829}, '/tweets/search/:product/:label': {'limit': 1800, 'remaining': 1800, 'reset': 1613967829}, '/tweets/search/stream/rules/validation&POST': {'limit': 450, 'remaining': 450, 'reset': 1613967829}, '/tweets/search/:product/:instance/counts': {'limit': 900, 'remaining': 900, 'reset': 1613967829}, '/tweets/:tweet_id/liking_users': {'limit': 75, 'remaining': 75, 'reset': 1613967829}, '/tweets/search/stream/rules&DELETE': {'limit': 450, 'remaining': 450, 'reset': 1613967829}, '/tweets/:id': {'limit': 900, 'remaining': 900, 'reset': 1613967829}, '/tweets/search/stream/rules&POST': {'limit': 450, 'remaining': 450, 'reset': 1613967829}, '/tweets/:id/hidden&PUT': {'limit': 50, 'remaining': 50, 'reset': 1613967829}}, 'saved_searches': {'/saved_searches/destroy/:id': {'limit': 15, 'remaining': 15, 'reset': 1613967829}, '/saved_searches/show/:id': {'limit': 15, 'remaining': 15, 'reset': 1613967829}, '/saved_searches/list': {'limit': 15, 'remaining': 15, 'reset': 1613967829}}, 'oauth': {'/oauth/revoke': {'limit': 15, 'remaining': 15, 'reset': 1613967829}, '/oauth/invalidate_token': {'limit': 450, 'remaining': 450, 'reset': 1613967829}, '/oauth/revoke_html': {'limit': 15, 'remaining': 15, 'reset': 1613967829}}, 'search': {'/search/tweets': {'limit': 180, 'remaining': 77, 'reset': 1613967048}}, 'trends': {'/trends/closest': {'limit': 75, 'remaining': 75, 'reset': 1613967829}, '/trends/available': {'limit': 75, 'remaining': 75, 'reset': 1613967829}, '/trends/place': {'limit': 75, 'remaining': 75, 'reset': 1613967829}}, 'live_pipeline': {'/live_pipeline/events': {'limit': 180, 'remaining': 180, 'reset': 1613967829}}, 'graphql': {'/graphql': {'limit': 15, 'remaining': 15, 'reset': 1613967829}}}}\n"
     ]
    }
   ],
   "source": [
    "import tweepy\n",
    "auth = tweepy.OAuthHandler(consumer_key, consumer_secret)\n",
    "auth.set_access_token(access_token, access_token_secret)\n",
    "\n",
    "api = tweepy.API(auth, wait_on_rate_limit=True,wait_on_rate_limit_notify=True )\n",
    "\n",
    "\n",
    "print(api.rate_limit_status())"
   ]
  },
  {
   "cell_type": "code",
   "execution_count": 4,
   "metadata": {},
   "outputs": [],
   "source": [
    "def limit_handled(cursor):\n",
    "    while True:\n",
    "        try:\n",
    "            yield next(cursor)\n",
    "        except tweepy.RateLimitError:\n",
    "            time.sleep(15 * 60)\n",
    "        except StopIteration:\n",
    "            return"
   ]
  },
  {
   "cell_type": "code",
   "execution_count": 5,
   "metadata": {},
   "outputs": [],
   "source": [
    "search_term = \"covid\"\n",
    "tweets = tweepy.Cursor(api.search,\n",
    "              q=search_term,\n",
    "              lang=\"en\", wait_on_rate_limit=True, wait_on_rate_limit_notify=True).items(10000)\n",
    "\n"
   ]
  },
  {
   "cell_type": "code",
   "execution_count": 6,
   "metadata": {},
   "outputs": [
    {
     "name": "stderr",
     "output_type": "stream",
     "text": [
      "Rate limit reached. Sleeping for: 67\n",
      "Rate limit reached. Sleeping for: 780\n",
      "Rate limit reached. Sleeping for: 780\n",
      "Rate limit reached. Sleeping for: 780\n"
     ]
    }
   ],
   "source": [
    "covid_tweets = []\n",
    "for tweet in limit_handled(tweets):\n",
    "    covid_tweets.append(tweet.text)\n"
   ]
  },
  {
   "cell_type": "code",
   "execution_count": 7,
   "metadata": {},
   "outputs": [],
   "source": [
    "import numpy as np\n",
    "np_tweets = np.asarray(covid_tweets)\n",
    "# np_tweets = np.load(\"tweets.npy\",allow_pickle=True)\n",
    "np.save(\"tweets\", np_tweets, allow_pickle=True)"
   ]
  },
  {
   "cell_type": "code",
   "execution_count": 2,
   "metadata": {},
   "outputs": [
    {
     "name": "stdout",
     "output_type": "stream",
     "text": [
      "Defaulting to user installation because normal site-packages is not writeable\n",
      "Requirement already satisfied: nltk==3.4.5 in /usr4/cs640/goutern/.local/lib/python3.7/site-packages (3.4.5)\n",
      "Requirement already satisfied: six in /share/pkg.7/python3/3.7.9/install/lib/python3.7/site-packages (from nltk==3.4.5) (1.15.0)\n",
      "\u001b[33mWARNING: You are using pip version 20.2.4; however, version 21.0.1 is available.\n",
      "You should consider upgrading via the '/share/pkg.7/python3/3.7.9/install/bin/python3.7 -m pip install --upgrade pip' command.\u001b[0m\n"
     ]
    }
   ],
   "source": [
    "!pip install \"nltk==3.4.5\""
   ]
  },
  {
   "cell_type": "code",
   "execution_count": 3,
   "metadata": {},
   "outputs": [],
   "source": [
    "import numpy as np\n",
    "from nltk.util import pad_sequence\n",
    "from nltk.util import bigrams\n",
    "from nltk.util import ngrams\n",
    "from nltk.util import everygrams\n",
    "from nltk.lm.preprocessing import pad_both_ends\n",
    "from nltk.lm.preprocessing import flatten\n",
    "from nltk.tokenize import TweetTokenizer\n",
    "tweet_tokenizer = TweetTokenizer()"
   ]
  },
  {
   "cell_type": "code",
   "execution_count": 4,
   "metadata": {},
   "outputs": [
    {
     "name": "stdout",
     "output_type": "stream",
     "text": [
      "9000\n",
      "1000\n"
     ]
    }
   ],
   "source": [
    "np_tweets = np.load(\"tweets.npy\",allow_pickle=True)\n",
    "covid_train = np_tweets[:9000]\n",
    "covid_test = np_tweets[9000:]\n",
    "print(len(covid_train))\n",
    "print(len(covid_test))"
   ]
  },
  {
   "cell_type": "code",
   "execution_count": 5,
   "metadata": {},
   "outputs": [
    {
     "name": "stdout",
     "output_type": "stream",
     "text": [
      "(9000,)\n",
      "@KristinRaworth @mtmdiamond The last thing any of us need during covid is rich pasta inspiration. I’ve already move… https://t.co/2DgwmbqTs9\n"
     ]
    },
    {
     "data": {
      "text/plain": [
       "9000"
      ]
     },
     "execution_count": 5,
     "metadata": {},
     "output_type": "execute_result"
    }
   ],
   "source": [
    "print(covid_train.shape)\n",
    "print(covid_train[0])\n",
    "# print(covid_tweets[0])\n",
    "len(covid_train)"
   ]
  },
  {
   "cell_type": "code",
   "execution_count": 6,
   "metadata": {},
   "outputs": [
    {
     "name": "stderr",
     "output_type": "stream",
     "text": [
      "[nltk_data] Downloading package averaged_perceptron_tagger to\n",
      "[nltk_data]     /usr4/cs640/goutern/nltk_data...\n",
      "[nltk_data]   Package averaged_perceptron_tagger is already up-to-\n",
      "[nltk_data]       date!\n",
      "[nltk_data] Downloading package wordnet to\n",
      "[nltk_data]     /usr4/cs640/goutern/nltk_data...\n",
      "[nltk_data]   Package wordnet is already up-to-date!\n",
      "[nltk_data] Downloading package stopwords to\n",
      "[nltk_data]     /usr4/cs640/goutern/nltk_data...\n",
      "[nltk_data]   Package stopwords is already up-to-date!\n"
     ]
    },
    {
     "data": {
      "text/plain": [
       "True"
      ]
     },
     "execution_count": 6,
     "metadata": {},
     "output_type": "execute_result"
    }
   ],
   "source": [
    "import regex as re\n",
    "from nltk.tag import pos_tag\n",
    "from nltk.stem.wordnet import WordNetLemmatizer\n",
    "import nltk\n",
    "import string\n",
    "from nltk.corpus import stopwords  \n",
    "nltk.download('averaged_perceptron_tagger')\n",
    "nltk.download('wordnet')\n",
    "nltk.download('stopwords')"
   ]
  },
  {
   "cell_type": "code",
   "execution_count": 17,
   "metadata": {},
   "outputs": [],
   "source": [
    "lemmatizer = WordNetLemmatizer()\n",
    "stop_words = set(stopwords.words('english')) \n",
    "stop_words.add(\"...\")\n",
    "stop_words.add(\"rt\")\n",
    "#clean and tokenize the tweets\n",
    "def clean_tweets(tweets):\n",
    "    cleaned_tweets = []\n",
    "    for tweet in tweets:\n",
    "        cleaned_tweet_tokens = []\n",
    "        token_tweet = tweet_tokenizer.tokenize(tweet)\n",
    "        #tag tweets by words for lemmatization normlaization\n",
    "        for token, tag in pos_tag(token_tweet):\n",
    "            #regexs to remove punctutation, http,twitter handles, etc...\n",
    "            token = re.sub('http[s]?://(?:[a-zA-Z]|[0-9]|[$-_@.&+#]|[!*(),]|'\n",
    "                           '(?:%[0-9a-fA-F][0-9a-fA-F]))+','', token)\n",
    "            token = re.sub(\"(@[A-Za-z0-9_]+)\",\"\", token)\n",
    "            \n",
    "            #update tags to work with lemmantizer\n",
    "            if tag.startswith(\"NN\"):\n",
    "                pos = 'n'\n",
    "            elif tag.startswith('VB'):\n",
    "                pos = 'v'\n",
    "            else:\n",
    "                pos = 'a'\n",
    "\n",
    "            token = lemmatizer.lemmatize(token, pos)\n",
    "#             print(token)\n",
    "            #check the token to ensure it is clean and then add it to the cleaned tokens\n",
    "            if len(token) > 0 and token not in string.punctuation and token.lower() and token not in stop_words:\n",
    "                cleaned_tweet_tokens.append(token.lower())\n",
    "        cleaned_tweets.append(cleaned_tweet_tokens)\n",
    "    return cleaned_tweets"
   ]
  },
  {
   "cell_type": "code",
   "execution_count": 18,
   "metadata": {},
   "outputs": [],
   "source": [
    "from nltk.lm.preprocessing import padded_everygram_pipeline\n",
    "from nltk.lm.models import KneserNeyInterpolated\n",
    "\n",
    "tweet_tokens = []\n",
    "tweet_tokens = (clean_tweets(covid_train))"
   ]
  },
  {
   "cell_type": "code",
   "execution_count": 19,
   "metadata": {},
   "outputs": [],
   "source": [
    "def ngram_model(ngrams):\n",
    "    print(len(tweet_tokens))\n",
    "    train_data, padded_sents = padded_everygram_pipeline(ngrams, tweet_tokens)\n",
    "    model = KneserNeyInterpolated(ngrams) \n",
    "    model.fit(train_data,padded_sents)\n",
    "    print(model.counts)\n",
    "    return model   "
   ]
  },
  {
   "cell_type": "code",
   "execution_count": 20,
   "metadata": {},
   "outputs": [
    {
     "name": "stdout",
     "output_type": "stream",
     "text": [
      "9000\n",
      "<NgramCounter with 1 ngram orders and 127553 ngrams>\n",
      "9000\n",
      "<NgramCounter with 2 ngram orders and 282106 ngrams>\n",
      "9000\n",
      "<NgramCounter with 3 ngram orders and 463659 ngrams>\n",
      "<nltk.lm.models.KneserNeyInterpolated object at 0x2b32b7eb2110>\n",
      "<nltk.lm.models.KneserNeyInterpolated object at 0x2b32b7eb0ed0>\n",
      "<nltk.lm.models.KneserNeyInterpolated object at 0x2b32b4c83b10>\n"
     ]
    }
   ],
   "source": [
    "unigram = ngram_model(1)\n",
    "bigram = ngram_model(2)\n",
    "trigram = ngram_model(3)\n",
    "print(unigram)\n",
    "print(bigram)\n",
    "print(trigram)"
   ]
  },
  {
   "cell_type": "code",
   "execution_count": 21,
   "metadata": {},
   "outputs": [
    {
     "name": "stdout",
     "output_type": "stream",
     "text": [
      "date and time = 23/02/2021 12:35:52\n",
      "9407.999999999998\n",
      "1779.3845742485717\n",
      "56.01130774753686\n",
      "date and time = 23/02/2021 12:40:41\n"
     ]
    }
   ],
   "source": [
    "from datetime import datetime\n",
    "dt_string = datetime.now().strftime(\"%d/%m/%Y %H:%M:%S\")\n",
    "print(\"date and time =\", dt_string)\n",
    "uni_perplex = 0\n",
    "bi_perplex = 0\n",
    "tri_perplex = 0\n",
    "test_tokens = clean_tweets(covid_test)\n",
    "\n",
    "# bi_test_data, _ = padded_everygram_pipeline(ngrams, tweet_tokens)\n",
    "# tri_test_data, _ = padded_everygram_pipeline(ngrams, tweet_tokens)\n",
    "\n",
    "\n",
    "uni_test_data, _ = padded_everygram_pipeline(1, test_tokens)\n",
    "bi_test_data,_ = padded_everygram_pipeline(2, test_tokens)\n",
    "# tri_test_data = [nltk.trigrams(t,  pad_right=True, pad_left=True, left_pad_symbol=\"<s>\", right_pad_symbol=\"</s>\") for t in test_tokens]\n",
    "tri_test_data, _ = padded_everygram_pipeline(3, test_tokens)\n",
    "\n",
    "i =0\n",
    "for test in uni_test_data:\n",
    "    i += 1\n",
    "    uni_perplex += unigram.perplexity(test)\n",
    "uni_perplex = uni_perplex/i\n",
    "print(uni_perplex)\n",
    "\n",
    "i =0\n",
    "for test in bi_test_data:\n",
    "    try:\n",
    "        bi_perplex += bigram.perplexity(test)\n",
    "        i += 1\n",
    "    except ZeroDivisionError:\n",
    "        i\n",
    "bi_perplex = bi_perplex/i\n",
    "print(bi_perplex)\n",
    "\n",
    "i =0\n",
    "for test in tri_test_data:\n",
    "    try:\n",
    "        tri_perplex += trigram.perplexity(test)\n",
    "        i += 1\n",
    "    except ZeroDivisionError:\n",
    "        i\n",
    "tri_perplex = tri_perplex/i\n",
    "print(tri_perplex)\n",
    "\n",
    "# for i, test in enumerate(tri_test_data):\n",
    "#     try:\n",
    "#         tri_perplex += trigram.perplexity(test)\n",
    "#     except ZeroDivisonError:\n",
    "#         print(\"error\")\n",
    "# tri_perplex = tri_perplex/len(tri_test_data)\n",
    "# print(tri_perplex)\n",
    "\n",
    "# for tweet in covid_test:\n",
    "#     if len(tweet)!=0:\n",
    "#         uni_perplex += unigram.perplexity(tweet)\n",
    "#         bi_perplex += bigram.perplexity(tweet)\n",
    "#         tri_perplex += trigram.perplexity(tweet)\n",
    "\n",
    "# print(uni_perplex)\n",
    "# print(bi_perplex)\n",
    "# print(tri_perplex)\n",
    "dt_string = datetime.now().strftime(\"%d/%m/%Y %H:%M:%S\")\n",
    "print(\"date and time =\", dt_string)"
   ]
  },
  {
   "cell_type": "code",
   "execution_count": 22,
   "metadata": {},
   "outputs": [
    {
     "name": "stdout",
     "output_type": "stream",
     "text": [
      "date and time = 23/02/2021 12:40:41\n",
      "['apartheid', 'strengthen', 'n95', 'disappointin', 'saying', 'opposite', 'classroom', 'ceaseless', 'initial', 'resid', '#tanzania', 'governments', 'grandchild', 'middle', 'mosque', 'tragedy', 'thru', '#b117', 'garza', 'phoenix']\n",
      "['epic', 'yr', 'favorite', 'wide', 'old', 'desantis', 'jews', 'improve', '63', 'maintain', 'idea', 'select', '2020', 'not-serious', 'leather', 'harris', '🏻', 'roll', 'near', 'finna']\n",
      "['dear', 'kate', 'maintaining', 'write', '660', 'first', 'virtual', 'signif', 'stupid', 'prom', 'dt', 'cance', 'glasses-wearers', 'repo', 'subtext', 'andrews', '75', 'dot', 'normalise', '#wearamask']\n",
      "['backlog', 'corner', 'updated', 'unaccepta', 'state.and', 'presley', 'slowdown', 'maniac', 'strain', '600,000', 'heartfelt', 'patrick', '216', 'dept', 'shirt', 'damn', 'kitchen', 'refusing', 'woodland', '300x']\n",
      "['protec', 'differ', 'masuk', 'brown', 'va', 'violent', '1,228', '6,553', 'sa', 'bubba', 'chicago', 'sin', '#cancelboards', 'sultan', 'test', 'fook', 'couldn', '#isolation', 'driver', 'outwei']\n",
      "['retro', '14,264', 'omni-vaccine', 'outweigh', 'nm', 'administer', 'yi', 'well', 'luke', '#jobseeker', 'retail', 'aft', 'identical', 'prim', 'sunstroke', '#yeg', '—', 'flccc', 'subtext', 'weak']\n",
      "['biz', '#mumbai', 'satybrata', 'retro', 'november', 'upd', 'rf', 'rated', 'stephen', '#cleantech', 'stomach', 'love', 'existence', 'check', 'shoul', \"i'd\", 'khabarhub', 'into', 'russa', 'reportedly']\n",
      "['esrc', 'master', 'ordina', '🔟', 'wage', '#trumpvirus', 's2', 'ke', 'spending', 'ideation', 'abou', 'predispose', 'confirms', 'demographic', 'approx', 'positive', '850', 'recently', '28th', 'burden']\n",
      "['movie', 'halt', 'no-one', 'prottoy', '】', 'vanuatu', 'mourning', 'gradient', 'amaravati', 'refusing', 'pope', 'enjoy', 'bugs', 'function', '#coronavirusupdates', 'officer', 'years', 'donation', 'slaughter', 'fail']\n",
      "['kiosk', \"national's\", 'consequence', 'interest', 'sa', 'bully', 'roads', 'tama', '·', '180', 'foun', 'hoe', 'candl', 'defeat', 'famili', 'director', 'printmaking', 'cook', 'topic', 'bullish']\n",
      "date and time = 23/02/2021 14:49:04\n",
      "['lobby', 'biden', 'far', 'media', '</s>', 'planning', 'wedding', 'covid', 'relief', 'covid', 'knock', 'spread', 'ramp', 'united', 'states', '4.2', 'global', 'man-made', 'fabric', 'market']\n",
      "['depot', 'couple', 'month', 'ago', 'self', '500,000', 'death', 'joe', 'biden', 'far', \"let's\", 'run', 'c', '…', '</s>', 'prottoy', 'enter', 'human', 'active', 'covid']\n",
      "['award', '…', '</s>', 'vaccine', 'healthcare', 'worker', 'shortage', 'story', 'hint', 'try', 'raise', 'wage', 'via', '</s>', 'maskless', 'republicans', 'would', 'half', 'million', 'family']\n",
      "['huge', 'difference', 'one', '😕', '</s>', 'indicat', '…', '</s>', \"america's\", 'almost', 'large', 'grasp', '</s>', 'version', 'little', 'flip', 'book', 'covid', 'death', 'joe']\n",
      "['extraordinarily', 'successful', 'covid', 'touch', 'someone', 'two', 'state', 'covid', '19', 'death', 'toll', 'near', 'half', 'life', 'lose', 'hot', '</s>', 'sucks', 'allow', 'infect']\n",
      "['storm-delayed', '…', '</s>', 'sarkar', 'promote', 'anti', 'semitic', 'libel', '500,000', 'death', 'nurse', 'first', 'real-world', 'sign', 'immunization', 'curb', '…', '</s>', '#nhs', 'staff']\n",
      "['august', 'level', 'public', 'health', 'say', 'model', 'release', 'detail', 'claims', 'covid', 'vaccine', 'supply', 'chain', '…', '</s>', 'tech', 'remember', 'oppose', 'congress', 'provide']\n",
      "['jerk', '…', '</s>', 'azar', 'suggest', '</s>', 'hone', 'search', '1', 'occasion', 'the', 'first', 'time', 'less', '</s>', 'asked', 'thing', 'behind', 'wuhan', 'military']\n",
      "['studen', '…', '</s>', 'bame', 'community', 'organisation', 'pledge', 'back', 'pre-b', '1.351', 'baseline', 'covid', '19', 'vaccine', '…', '</s>', 'ei', 'entitle', 'how', 'many']\n",
      "['ref', '…', '</s>', 'carpenter', 'adoo', 'medical', 'miracle', 'little', 'goblin', '…', '</s>', 'industrial', 'medical', 'trea', '…', '</s>', 'prayi', '…', '</s>', 'update']\n",
      "date and time = 23/02/2021 15:08:57\n",
      "['ertz', 'struggle', 'bus', 'since', 'covid', 'break', 'every', '…', '</s>', '</s>', '</s>', '</s>', '</s>', '</s>', '</s>', '</s>', '</s>', '</s>', '</s>', '</s>']\n",
      "['philguarantee', 'guarantee', 'total', 'p180', '67', 'billion', 'loan', '2020', 'exceed', '…', '</s>', '</s>', '</s>', '</s>', '</s>', '</s>', '</s>', '</s>', '</s>', '</s>']\n",
      "['7', 'death', 'total', '30', 'day', 'covid', 'allow', \"can't\", 'even', 'talk', 'yet', '..', 'lmao', '</s>', '</s>', '</s>', '</s>', '</s>', '</s>', '</s>']\n",
      "['evil', 'fuc', '…', '</s>', '</s>', '</s>', '</s>', '</s>', '</s>', '</s>', '</s>', '</s>', '</s>', '</s>', '</s>', '</s>', '</s>', '</s>', '</s>', '</s>']\n",
      "['doses', 'collaboration', '…', '</s>', '</s>', '</s>', '</s>', '</s>', '</s>', '</s>', '</s>', '</s>', '</s>', '</s>', '</s>', '</s>', '</s>', '</s>', '</s>', '</s>']\n",
      "['shiver', 'dark', 'hold', 'hoard', 'covid', 'toilet', 'paper', 'what', 'we', 'can', 'learn', '…', '</s>', '</s>', '</s>', '</s>', '</s>', '</s>', '</s>', '</s>']\n",
      "['trick', 'ever', 'play', 'world', '</s>', '</s>', '</s>', '</s>', '</s>', '</s>', '</s>', '</s>', '</s>', '</s>', '</s>', '</s>', '</s>', '</s>', '</s>', '</s>']\n",
      "['🇮', '🇱', 'study', 'show', 'pfizer-biontech', 'vaccine', 'almost', '90', 'effective', 'stop', 'covid', '19', 'positive', 'case', 'coming', 'cm', 'whose', 'state', 'notorious', '…']\n",
      "['charlatan', '…', '</s>', '</s>', '</s>', '</s>', '</s>', '</s>', '</s>', '</s>', '</s>', '</s>', '</s>', '</s>', '</s>', '</s>', '</s>', '</s>', '</s>', '</s>']\n",
      "['arlington', 'national', 'cemetery', 'even', 'less', 'half', 'life', 'would', '’', 'spar', '…', '</s>', '</s>', '</s>', '</s>', '</s>', '</s>', '</s>', '</s>', '</s>']\n",
      "date and time = 23/02/2021 15:15:25\n"
     ]
    }
   ],
   "source": [
    "dt_string = datetime.now().strftime(\"%d/%m/%Y %H:%M:%S\")\n",
    "print(\"date and time =\", dt_string)\n",
    "for i in range(10):\n",
    "    print(unigram.generate(20))\n",
    "dt_string = datetime.now().strftime(\"%d/%m/%Y %H:%M:%S\")\n",
    "print(\"date and time =\", dt_string)\n",
    "for i in range(10):\n",
    "    print(bigram.generate(20))\n",
    "dt_string = datetime.now().strftime(\"%d/%m/%Y %H:%M:%S\")\n",
    "print(\"date and time =\", dt_string)\n",
    "for i in range(10):\n",
    "    print(trigram.generate(20))\n",
    "dt_string = datetime.now().strftime(\"%d/%m/%Y %H:%M:%S\")\n",
    "print(\"date and time =\", dt_string)"
   ]
  },
  {
   "cell_type": "code",
   "execution_count": 23,
   "metadata": {},
   "outputs": [
    {
     "name": "stderr",
     "output_type": "stream",
     "text": [
      "[nltk_data] Downloading package vader_lexicon to\n",
      "[nltk_data]     /usr4/cs640/goutern/nltk_data...\n",
      "[nltk_data]   Package vader_lexicon is already up-to-date!\n"
     ]
    }
   ],
   "source": [
    "import nltk\n",
    "nltk.download('vader_lexicon')\n",
    "from nltk.sentiment.vader import SentimentIntensityAnalyzer\n",
    "\n",
    "sid = SentimentIntensityAnalyzer()"
   ]
  },
  {
   "cell_type": "code",
   "execution_count": 24,
   "metadata": {},
   "outputs": [
    {
     "name": "stdout",
     "output_type": "stream",
     "text": [
      "date and time = 23/02/2021 15:15:26\n",
      "@KristinRaworth @mtmdiamond The last thing any of us need during covid is rich pasta inspiration. I’ve already move… https://t.co/2DgwmbqTs9\n",
      "{'neg': 0.0, 'neu': 0.708, 'pos': 0.292, 'compound': 0.7906}\n",
      "date and time = 23/02/2021 15:15:26\n"
     ]
    }
   ],
   "source": [
    "dt_string = datetime.now().strftime(\"%d/%m/%Y %H:%M:%S\")\n",
    "print(\"date and time =\", dt_string)\n",
    "print(covid_train[0])\n",
    "print(sid.polarity_scores(covid_train[0]))\n",
    "dt_string = datetime.now().strftime(\"%d/%m/%Y %H:%M:%S\")\n",
    "print(\"date and time =\", dt_string)"
   ]
  },
  {
   "cell_type": "code",
   "execution_count": 25,
   "metadata": {},
   "outputs": [
    {
     "name": "stdout",
     "output_type": "stream",
     "text": [
      "[('rt', 2944), ('…', 2619), ('covid', 2534), ('19', 728), ('the', 643), ('’', 608), ('lose', 547), ('people', 534), ('year', 531), ('500,000', 525)]\n",
      "[('…', 2326), ('rt', 2180), ('covid', 2014), ('relief', 637), ('19', 629), ('’', 617), ('i', 592), ('vaccine', 295), ('get', 284), ('people', 283)]\n",
      "-534.9289999999959\n",
      "-0.05349289999999959\n"
     ]
    }
   ],
   "source": [
    "from collections import Counter\n",
    "clean_token_tweets = clean_tweets(np_tweets)\n",
    "\n",
    "total_compound = 0\n",
    "negative_tweets = []\n",
    "positive_tweets = []\n",
    "for tweet in np_tweets:\n",
    "    compound = sid.polarity_scores(tweet).get('compound')\n",
    "    \n",
    "    #negative tweet\n",
    "    if compound < -0.05:\n",
    "        negative_tweets.append(tweet)\n",
    "    #positive tweet\n",
    "    elif compound > 0.05:\n",
    "        positive_tweets.append(tweet)\n",
    "    total_compound += compound\n",
    "\n",
    "negative_tokens = clean_tweets(negative_tweets)\n",
    "positive_tokens = clean_tweets(positive_tweets)\n",
    "\n",
    "negative_counts = Counter([j for i in negative_tokens for j in i ])\n",
    "positive_counts = Counter([j for i in positive_tokens for j in i ])\n",
    "\n",
    "print(negative_counts.most_common(10))\n",
    "print(positive_counts.most_common(10))\n",
    "\n",
    "print(total_compound)\n",
    "print(total_compound/len(clean_token_tweets))"
   ]
  },
  {
   "cell_type": "code",
   "execution_count": null,
   "metadata": {},
   "outputs": [],
   "source": [
    "\n",
    "    "
   ]
  },
  {
   "cell_type": "code",
   "execution_count": null,
   "metadata": {},
   "outputs": [],
   "source": []
  }
 ],
 "metadata": {
  "kernelspec": {
   "display_name": "Python 3",
   "language": "python",
   "name": "python3"
  },
  "language_info": {
   "codemirror_mode": {
    "name": "ipython",
    "version": 3
   },
   "file_extension": ".py",
   "mimetype": "text/x-python",
   "name": "python",
   "nbconvert_exporter": "python",
   "pygments_lexer": "ipython3",
   "version": "3.7.9"
  }
 },
 "nbformat": 4,
 "nbformat_minor": 4
}
